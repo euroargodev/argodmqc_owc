{
 "cells": [
  {
   "cell_type": "markdown",
   "metadata": {},
   "source": [
    "# Test OWC Python software"
   ]
  },
  {
   "cell_type": "code",
   "execution_count": 9,
   "metadata": {},
   "outputs": [],
   "source": [
    "import sys, os, glob\n",
    "import numpy as np\n",
    "import pandas as pd\n",
    "import xarray as xr\n",
    "import geopandas \n",
    "\n",
    "# Importing in dev mode:\n",
    "sys.path.insert(0, \"/Users/gmaze/git/github/euroargodev/argodmqc_owc\")\n",
    "import ow_calibration\n",
    "\n",
    "# Otherwise from binder, it should already be installed"
   ]
  },
  {
   "cell_type": "code",
   "execution_count": 10,
   "metadata": {},
   "outputs": [],
   "source": [
    "from ow_calibration.load_configuration.load_configuration import load_configuration\n",
    "from ow_calibration.update_salinity_mapping.update_salinity_mapping import update_salinity_mapping"
   ]
  },
  {
   "cell_type": "markdown",
   "metadata": {},
   "source": [
    "## Run calibration"
   ]
  },
  {
   "cell_type": "markdown",
   "metadata": {},
   "source": [
    "### Set-up parameters"
   ]
  },
  {
   "cell_type": "code",
   "execution_count": 11,
   "metadata": {},
   "outputs": [
    {
     "name": "stdout",
     "output_type": "stream",
     "text": [
      "          HISTORICAL_DIRECTORY: data/climatology\n",
      "        FLOAT_SOURCE_DIRECTORY: data/float_source\n",
      "        FLOAT_MAPPED_DIRECTORY: data/float_mapped/\n",
      "              CONFIG_DIRECTORY: data/constants/\n",
      "\n",
      "\n",
      "          HISTORICAL_DIRECTORY: /Users/gmaze/git/github/euroargodev/argodmqc_owc/data/climatology\n",
      "         HISTORICAL_CTD_PREFIX: /historical_ctd/ctd_\n",
      "      HISTORICAL_BOTTLE_PREFIX: /historical_bot/bot_\n",
      "        HISTORICAL_ARGO_PREFIX: /historical_argo/argo_\n",
      "        FLOAT_SOURCE_DIRECTORY: /Users/gmaze/git/github/euroargodev/argodmqc_owc/data/float_source\n",
      "          FLOAT_SOURCE_POSTFIX: .mat\n",
      "        FLOAT_MAPPED_DIRECTORY: /Users/gmaze/git/github/euroargodev/argodmqc_owc/data/float_mapped/\n",
      "           FLOAT_MAPPED_PREFIX: map_\n",
      "          FLOAT_MAPPED_POSTFIX: .mat\n",
      "         FLOAT_CALIB_DIRECTORY: /home/awong/argo/OW/data/float_calib/\n",
      "            FLOAT_CALIB_PREFIX: cal_\n",
      "        FLOAT_CALSERIES_PREFIX: calseries_\n",
      "           FLOAT_CALIB_POSTFIX: .mat\n",
      "         FLOAT_PLOTS_DIRECTORY: /home/awong/argo/OW/data/float_plots/\n",
      "              CONFIG_DIRECTORY: /Users/gmaze/git/github/euroargodev/argodmqc_owc/data/constants/\n",
      "             CONFIG_COASTLINES: coastdat.mat\n",
      "              CONFIG_WMO_BOXES: wmo_boxes.mat\n",
      "                    CONFIG_SAF: TypicalProfileAroundSAF.mat\n",
      "              CONFIG_MAX_CASTS: 300\n",
      "                    MAP_USE_PV: 0\n",
      "                   MAP_USE_SAF: 0\n",
      "      MAPSCALE_LONGITUDE_LARGE: 8\n",
      "      MAPSCALE_LONGITUDE_SMALL: 4\n",
      "       MAPSCALE_LATITUDE_LARGE: 4\n",
      "       MAPSCALE_LATITUDE_SMALL: 2\n",
      "            MAPSCALE_PHI_LARGE: 0.5\n",
      "            MAPSCALE_PHI_SMALL: 0.1\n",
      "            MAPSCALE_AGE_LARGE: 20\n",
      "            MAPSCALE_AGE_SMALL: 10\n",
      "                 MAP_P_EXCLUDE: 200\n",
      "                   MAP_P_DELTA: 250\n"
     ]
    }
   ],
   "source": [
    "# store name for profile\n",
    "FLOAT_NAME = \"3901960\"\n",
    "\n",
    "# fetch the configuration and parameters set by the user\n",
    "USER_CONFIG = load_configuration()\n",
    "\n",
    "# Update path of data folder:\n",
    "for k in USER_CONFIG:\n",
    "    if \"DIRECTORY\" in k and \"data/\" in USER_CONFIG[k][0:5]:\n",
    "        print(\"%30s: %s\" % (k, USER_CONFIG[k]))\n",
    "        USER_CONFIG[k] = USER_CONFIG[k].replace(\"data/\", os.path.split(ow_calibration.__file__)[0].replace('ow_calibration','') + 'data/')\n",
    "print(\"\\n\")\n",
    "for k in USER_CONFIG:\n",
    "    print(\"%30s: %s\" % (k, USER_CONFIG[k]))"
   ]
  },
  {
   "cell_type": "markdown",
   "metadata": {},
   "source": [
    "## Get historical salinity data for comparison and compute calibration"
   ]
  },
  {
   "cell_type": "code",
   "execution_count": 12,
   "metadata": {},
   "outputs": [
    {
     "name": "stdout",
     "output_type": "stream",
     "text": [
      "\n",
      "CONFIGURATION PARAMETERS\n",
      "__________________________________________________________\n",
      "WMO box file:  wmo_boxes.mat\n",
      "max_casts:  300\n",
      "map_use_pv:  0\n",
      "map_use_saf:  0\n",
      "long_large:  8\n",
      "long_small:  4\n",
      "lat_large:  4\n",
      "lat_small:  2\n",
      "phi_large:  0.5\n",
      "phi_small:  0.1\n",
      "map_age_large:  20\n",
      "map_age_small:  10\n",
      "map_p_delta:  250\n",
      "map_p_exclude:  200\n",
      "__________________________________________________________\n",
      "Using precaulcated data:  /Users/gmaze/git/github/euroargodev/argodmqc_owc/data/float_mapped//map_3901960.mat\n",
      "__________________________________________________________\n"
     ]
    },
    {
     "name": "stderr",
     "output_type": "stream",
     "text": [
      "/Users/gmaze/git/github/euroargodev/argodmqc_owc/ow_calibration/update_salinity_mapping/update_salinity_mapping.py:488: RuntimeWarning: invalid value encountered in less\n",
      "  bad_sal_30 = np.argwhere(la_mapped_sal < 30)\n",
      "/Users/gmaze/git/github/euroargodev/argodmqc_owc/ow_calibration/update_salinity_mapping/update_salinity_mapping.py:489: RuntimeWarning: invalid value encountered in greater\n",
      "  bad_sal_40 = np.argwhere(la_mapped_sal > 40)\n"
     ]
    }
   ],
   "source": [
    "update_salinity_mapping(\"/\", FLOAT_NAME, USER_CONFIG)"
   ]
  },
  {
   "cell_type": "markdown",
   "metadata": {},
   "source": [
    "## Plots"
   ]
  },
  {
   "cell_type": "code",
   "execution_count": 13,
   "metadata": {},
   "outputs": [],
   "source": [
    "from ow_calibration.plot_diagnostics.plot_diagnostics import plot_diagnostics"
   ]
  },
  {
   "cell_type": "code",
   "execution_count": 14,
   "metadata": {},
   "outputs": [
    {
     "ename": "DriverError",
     "evalue": "data/constants/coastline/ne_10m_coastline.shp: No such file or directory",
     "output_type": "error",
     "traceback": [
      "\u001b[0;31m---------------------------------------------------------------------------\u001b[0m",
      "\u001b[0;31mCPLE_OpenFailedError\u001b[0m                      Traceback (most recent call last)",
      "\u001b[0;32mfiona/_shim.pyx\u001b[0m in \u001b[0;36mfiona._shim.gdal_open_vector\u001b[0;34m()\u001b[0m\n",
      "\u001b[0;32mfiona/_err.pyx\u001b[0m in \u001b[0;36mfiona._err.exc_wrap_pointer\u001b[0;34m()\u001b[0m\n",
      "\u001b[0;31mCPLE_OpenFailedError\u001b[0m: data/constants/coastline/ne_10m_coastline.shp: No such file or directory",
      "\nDuring handling of the above exception, another exception occurred:\n",
      "\u001b[0;31mDriverError\u001b[0m                               Traceback (most recent call last)",
      "\u001b[0;32m<ipython-input-14-28d533d164ce>\u001b[0m in \u001b[0;36m<module>\u001b[0;34m\u001b[0m\n\u001b[1;32m      1\u001b[0m \u001b[0;31m# create the diagnostic plots\u001b[0m\u001b[0;34m\u001b[0m\u001b[0;34m\u001b[0m\u001b[0;34m\u001b[0m\u001b[0m\n\u001b[0;32m----> 2\u001b[0;31m \u001b[0mplot_diagnostics\u001b[0m\u001b[0;34m(\u001b[0m\u001b[0;34m\"/\"\u001b[0m\u001b[0;34m,\u001b[0m \u001b[0mFLOAT_NAME\u001b[0m\u001b[0;34m,\u001b[0m \u001b[0mUSER_CONFIG\u001b[0m\u001b[0;34m)\u001b[0m\u001b[0;34m\u001b[0m\u001b[0;34m\u001b[0m\u001b[0m\n\u001b[0m",
      "\u001b[0;32m~/git/github/euroargodev/argodmqc_owc/ow_calibration/plot_diagnostics/plot_diagnostics.py\u001b[0m in \u001b[0;36mplot_diagnostics\u001b[0;34m(float_dir, float_name, config)\u001b[0m\n\u001b[1;32m     42\u001b[0m     \u001b[0mgrid\u001b[0m\u001b[0;34m,\u001b[0m \u001b[0mfloats\u001b[0m \u001b[0;34m=\u001b[0m \u001b[0mcreate_dataframe\u001b[0m\u001b[0;34m(\u001b[0m\u001b[0mgrid_data\u001b[0m\u001b[0;34m,\u001b[0m \u001b[0mfloat_data\u001b[0m\u001b[0;34m)\u001b[0m\u001b[0;34m\u001b[0m\u001b[0;34m\u001b[0m\u001b[0m\n\u001b[1;32m     43\u001b[0m \u001b[0;34m\u001b[0m\u001b[0m\n\u001b[0;32m---> 44\u001b[0;31m     \u001b[0mtrajectory_plot\u001b[0m\u001b[0;34m(\u001b[0m\u001b[0;36m0\u001b[0m\u001b[0;34m,\u001b[0m \u001b[0;36m0\u001b[0m\u001b[0;34m,\u001b[0m \u001b[0mfloats\u001b[0m\u001b[0;34m,\u001b[0m \u001b[0mgrid\u001b[0m\u001b[0;34m,\u001b[0m \u001b[0mfloat_name\u001b[0m\u001b[0;34m)\u001b[0m\u001b[0;34m\u001b[0m\u001b[0;34m\u001b[0m\u001b[0m\n\u001b[0m\u001b[1;32m     45\u001b[0m \u001b[0;34m\u001b[0m\u001b[0m\n\u001b[1;32m     46\u001b[0m     \u001b[0mplt\u001b[0m\u001b[0;34m.\u001b[0m\u001b[0mshow\u001b[0m\u001b[0;34m(\u001b[0m\u001b[0;34m)\u001b[0m\u001b[0;34m\u001b[0m\u001b[0;34m\u001b[0m\u001b[0m\n",
      "\u001b[0;32m~/git/github/euroargodev/argodmqc_owc/ow_calibration/plot_diagnostics/trajectory_plot/trajectory_plot.py\u001b[0m in \u001b[0;36mtrajectory_plot\u001b[0;34m(bath, reef, floats, climatology, float_name)\u001b[0m\n\u001b[1;32m     39\u001b[0m     \u001b[0;31m# load in the coastline data\u001b[0m\u001b[0;34m\u001b[0m\u001b[0;34m\u001b[0m\u001b[0;34m\u001b[0m\u001b[0m\n\u001b[1;32m     40\u001b[0m     \u001b[0mcoastline\u001b[0m \u001b[0;34m=\u001b[0m \u001b[0;34m\"data/constants/coastline/ne_10m_coastline.shp\"\u001b[0m\u001b[0;34m\u001b[0m\u001b[0;34m\u001b[0m\u001b[0m\n\u001b[0;32m---> 41\u001b[0;31m     \u001b[0mmap_coast\u001b[0m \u001b[0;34m=\u001b[0m \u001b[0mgdp\u001b[0m\u001b[0;34m.\u001b[0m\u001b[0mread_file\u001b[0m\u001b[0;34m(\u001b[0m\u001b[0mcoastline\u001b[0m\u001b[0;34m)\u001b[0m\u001b[0;34m\u001b[0m\u001b[0;34m\u001b[0m\u001b[0m\n\u001b[0m\u001b[1;32m     42\u001b[0m     \u001b[0mtraj_map\u001b[0m \u001b[0;34m=\u001b[0m \u001b[0mmap_coast\u001b[0m\u001b[0;34m.\u001b[0m\u001b[0mplot\u001b[0m\u001b[0;34m(\u001b[0m\u001b[0mcolor\u001b[0m\u001b[0;34m=\u001b[0m\u001b[0;34m'black'\u001b[0m\u001b[0;34m,\u001b[0m \u001b[0mlabel\u001b[0m\u001b[0;34m=\u001b[0m\u001b[0;34m'coastline'\u001b[0m\u001b[0;34m)\u001b[0m\u001b[0;34m\u001b[0m\u001b[0;34m\u001b[0m\u001b[0m\n\u001b[1;32m     43\u001b[0m \u001b[0;34m\u001b[0m\u001b[0m\n",
      "\u001b[0;32m~/anaconda/envs/obidam36/lib/python3.6/site-packages/geopandas/io/file.py\u001b[0m in \u001b[0;36mread_file\u001b[0;34m(filename, bbox, mask, rows, **kwargs)\u001b[0m\n\u001b[1;32m     87\u001b[0m \u001b[0;34m\u001b[0m\u001b[0m\n\u001b[1;32m     88\u001b[0m     \u001b[0;32mwith\u001b[0m \u001b[0mfiona_env\u001b[0m\u001b[0;34m(\u001b[0m\u001b[0;34m)\u001b[0m\u001b[0;34m:\u001b[0m\u001b[0;34m\u001b[0m\u001b[0;34m\u001b[0m\u001b[0m\n\u001b[0;32m---> 89\u001b[0;31m         \u001b[0;32mwith\u001b[0m \u001b[0mreader\u001b[0m\u001b[0;34m(\u001b[0m\u001b[0mpath_or_bytes\u001b[0m\u001b[0;34m,\u001b[0m \u001b[0;34m**\u001b[0m\u001b[0mkwargs\u001b[0m\u001b[0;34m)\u001b[0m \u001b[0;32mas\u001b[0m \u001b[0mfeatures\u001b[0m\u001b[0;34m:\u001b[0m\u001b[0;34m\u001b[0m\u001b[0;34m\u001b[0m\u001b[0m\n\u001b[0m\u001b[1;32m     90\u001b[0m \u001b[0;34m\u001b[0m\u001b[0m\n\u001b[1;32m     91\u001b[0m             \u001b[0;31m# In a future Fiona release the crs attribute of features will\u001b[0m\u001b[0;34m\u001b[0m\u001b[0;34m\u001b[0m\u001b[0;34m\u001b[0m\u001b[0m\n",
      "\u001b[0;32m~/anaconda/envs/obidam36/lib/python3.6/site-packages/fiona/env.py\u001b[0m in \u001b[0;36mwrapper\u001b[0;34m(*args, **kwargs)\u001b[0m\n\u001b[1;32m    396\u001b[0m     \u001b[0;32mdef\u001b[0m \u001b[0mwrapper\u001b[0m\u001b[0;34m(\u001b[0m\u001b[0;34m*\u001b[0m\u001b[0margs\u001b[0m\u001b[0;34m,\u001b[0m \u001b[0;34m**\u001b[0m\u001b[0mkwargs\u001b[0m\u001b[0;34m)\u001b[0m\u001b[0;34m:\u001b[0m\u001b[0;34m\u001b[0m\u001b[0;34m\u001b[0m\u001b[0m\n\u001b[1;32m    397\u001b[0m         \u001b[0;32mif\u001b[0m \u001b[0mlocal\u001b[0m\u001b[0;34m.\u001b[0m\u001b[0m_env\u001b[0m\u001b[0;34m:\u001b[0m\u001b[0;34m\u001b[0m\u001b[0;34m\u001b[0m\u001b[0m\n\u001b[0;32m--> 398\u001b[0;31m             \u001b[0;32mreturn\u001b[0m \u001b[0mf\u001b[0m\u001b[0;34m(\u001b[0m\u001b[0;34m*\u001b[0m\u001b[0margs\u001b[0m\u001b[0;34m,\u001b[0m \u001b[0;34m**\u001b[0m\u001b[0mkwargs\u001b[0m\u001b[0;34m)\u001b[0m\u001b[0;34m\u001b[0m\u001b[0;34m\u001b[0m\u001b[0m\n\u001b[0m\u001b[1;32m    399\u001b[0m         \u001b[0;32melse\u001b[0m\u001b[0;34m:\u001b[0m\u001b[0;34m\u001b[0m\u001b[0;34m\u001b[0m\u001b[0m\n\u001b[1;32m    400\u001b[0m             \u001b[0;32mif\u001b[0m \u001b[0misinstance\u001b[0m\u001b[0;34m(\u001b[0m\u001b[0margs\u001b[0m\u001b[0;34m[\u001b[0m\u001b[0;36m0\u001b[0m\u001b[0;34m]\u001b[0m\u001b[0;34m,\u001b[0m \u001b[0mstr\u001b[0m\u001b[0;34m)\u001b[0m\u001b[0;34m:\u001b[0m\u001b[0;34m\u001b[0m\u001b[0;34m\u001b[0m\u001b[0m\n",
      "\u001b[0;32m~/anaconda/envs/obidam36/lib/python3.6/site-packages/fiona/__init__.py\u001b[0m in \u001b[0;36mopen\u001b[0;34m(fp, mode, driver, schema, crs, encoding, layer, vfs, enabled_drivers, crs_wkt, **kwargs)\u001b[0m\n\u001b[1;32m    252\u001b[0m         \u001b[0;32mif\u001b[0m \u001b[0mmode\u001b[0m \u001b[0;32min\u001b[0m \u001b[0;34m(\u001b[0m\u001b[0;34m'a'\u001b[0m\u001b[0;34m,\u001b[0m \u001b[0;34m'r'\u001b[0m\u001b[0;34m)\u001b[0m\u001b[0;34m:\u001b[0m\u001b[0;34m\u001b[0m\u001b[0;34m\u001b[0m\u001b[0m\n\u001b[1;32m    253\u001b[0m             c = Collection(path, mode, driver=driver, encoding=encoding,\n\u001b[0;32m--> 254\u001b[0;31m                            layer=layer, enabled_drivers=enabled_drivers, **kwargs)\n\u001b[0m\u001b[1;32m    255\u001b[0m         \u001b[0;32melif\u001b[0m \u001b[0mmode\u001b[0m \u001b[0;34m==\u001b[0m \u001b[0;34m'w'\u001b[0m\u001b[0;34m:\u001b[0m\u001b[0;34m\u001b[0m\u001b[0;34m\u001b[0m\u001b[0m\n\u001b[1;32m    256\u001b[0m             \u001b[0;32mif\u001b[0m \u001b[0mschema\u001b[0m\u001b[0;34m:\u001b[0m\u001b[0;34m\u001b[0m\u001b[0;34m\u001b[0m\u001b[0m\n",
      "\u001b[0;32m~/anaconda/envs/obidam36/lib/python3.6/site-packages/fiona/collection.py\u001b[0m in \u001b[0;36m__init__\u001b[0;34m(self, path, mode, driver, schema, crs, encoding, layer, vsi, archive, enabled_drivers, crs_wkt, ignore_fields, ignore_geometry, **kwargs)\u001b[0m\n\u001b[1;32m    152\u001b[0m             \u001b[0;32mif\u001b[0m \u001b[0mself\u001b[0m\u001b[0;34m.\u001b[0m\u001b[0mmode\u001b[0m \u001b[0;34m==\u001b[0m \u001b[0;34m'r'\u001b[0m\u001b[0;34m:\u001b[0m\u001b[0;34m\u001b[0m\u001b[0;34m\u001b[0m\u001b[0m\n\u001b[1;32m    153\u001b[0m                 \u001b[0mself\u001b[0m\u001b[0;34m.\u001b[0m\u001b[0msession\u001b[0m \u001b[0;34m=\u001b[0m \u001b[0mSession\u001b[0m\u001b[0;34m(\u001b[0m\u001b[0;34m)\u001b[0m\u001b[0;34m\u001b[0m\u001b[0;34m\u001b[0m\u001b[0m\n\u001b[0;32m--> 154\u001b[0;31m                 \u001b[0mself\u001b[0m\u001b[0;34m.\u001b[0m\u001b[0msession\u001b[0m\u001b[0;34m.\u001b[0m\u001b[0mstart\u001b[0m\u001b[0;34m(\u001b[0m\u001b[0mself\u001b[0m\u001b[0;34m,\u001b[0m \u001b[0;34m**\u001b[0m\u001b[0mkwargs\u001b[0m\u001b[0;34m)\u001b[0m\u001b[0;34m\u001b[0m\u001b[0;34m\u001b[0m\u001b[0m\n\u001b[0m\u001b[1;32m    155\u001b[0m             \u001b[0;32melif\u001b[0m \u001b[0mself\u001b[0m\u001b[0;34m.\u001b[0m\u001b[0mmode\u001b[0m \u001b[0;32min\u001b[0m \u001b[0;34m(\u001b[0m\u001b[0;34m'a'\u001b[0m\u001b[0;34m,\u001b[0m \u001b[0;34m'w'\u001b[0m\u001b[0;34m)\u001b[0m\u001b[0;34m:\u001b[0m\u001b[0;34m\u001b[0m\u001b[0;34m\u001b[0m\u001b[0m\n\u001b[1;32m    156\u001b[0m                 \u001b[0mself\u001b[0m\u001b[0;34m.\u001b[0m\u001b[0msession\u001b[0m \u001b[0;34m=\u001b[0m \u001b[0mWritingSession\u001b[0m\u001b[0;34m(\u001b[0m\u001b[0;34m)\u001b[0m\u001b[0;34m\u001b[0m\u001b[0;34m\u001b[0m\u001b[0m\n",
      "\u001b[0;32mfiona/ogrext.pyx\u001b[0m in \u001b[0;36mfiona.ogrext.Session.start\u001b[0;34m()\u001b[0m\n",
      "\u001b[0;32mfiona/_shim.pyx\u001b[0m in \u001b[0;36mfiona._shim.gdal_open_vector\u001b[0;34m()\u001b[0m\n",
      "\u001b[0;31mDriverError\u001b[0m: data/constants/coastline/ne_10m_coastline.shp: No such file or directory"
     ]
    }
   ],
   "source": [
    "# create the diagnostic plots\n",
    "plot_diagnostics(\"/\", FLOAT_NAME, USER_CONFIG)"
   ]
  },
  {
   "cell_type": "code",
   "execution_count": null,
   "metadata": {},
   "outputs": [],
   "source": []
  }
 ],
 "metadata": {
  "kernelspec": {
   "display_name": "Python 3",
   "language": "python",
   "name": "python3"
  },
  "language_info": {
   "codemirror_mode": {
    "name": "ipython",
    "version": 3
   },
   "file_extension": ".py",
   "mimetype": "text/x-python",
   "name": "python",
   "nbconvert_exporter": "python",
   "pygments_lexer": "ipython3",
   "version": "3.6.10"
  },
  "widgets": {
   "application/vnd.jupyter.widget-state+json": {
    "state": {},
    "version_major": 2,
    "version_minor": 0
   }
  }
 },
 "nbformat": 4,
 "nbformat_minor": 4
}
