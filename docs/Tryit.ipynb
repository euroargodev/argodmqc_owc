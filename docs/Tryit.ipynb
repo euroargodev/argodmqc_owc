{
 "cells": [
  {
   "cell_type": "markdown",
   "metadata": {},
   "source": [
    "OWC Python software\n",
    "===================\n",
    "\n",
    "This notebook simply shows how to get you started with the OWC Python software"
   ]
  },
  {
   "cell_type": "code",
   "execution_count": null,
   "metadata": {},
   "outputs": [],
   "source": [
    "import pyowc as owc"
   ]
  },
  {
   "cell_type": "markdown",
   "metadata": {},
   "source": [
    "# Set-up parameters"
   ]
  },
  {
   "cell_type": "code",
   "execution_count": null,
   "metadata": {},
   "outputs": [],
   "source": [
    "# Float id (WMO 3901960 data comes with pyowc for demonstration purposes)\n",
    "FLOAT_NAME = \"3901960\"\n",
    "\n",
    "# Fetch the default configuration and parameters\n",
    "USER_CONFIG = owc.configuration.load()\n",
    "\n",
    "# Fix paths to run on Binder:\n",
    "for k in USER_CONFIG:\n",
    "    if \"DIRECTORY\" in k and \"data/\" in USER_CONFIG[k][0:5]:\n",
    "        USER_CONFIG[k] = USER_CONFIG[k].replace(\"data/\", \"../data/\")\n",
    "\n",
    "# Show all configuration parameters:\n",
    "print(owc.configuration.print_cfg(USER_CONFIG))"
   ]
  },
  {
   "cell_type": "markdown",
   "metadata": {},
   "source": [
    "# Prepare data from calibration"
   ]
  },
  {
   "cell_type": "code",
   "execution_count": null,
   "metadata": {},
   "outputs": [],
   "source": [
    "# Calculate mapped values needed for the analysis\n",
    "owc.calibration.update_salinity_mapping(\"/\", FLOAT_NAME, USER_CONFIG)"
   ]
  },
  {
   "cell_type": "markdown",
   "metadata": {},
   "source": [
    "# Run the calibration"
   ]
  },
  {
   "cell_type": "code",
   "execution_count": null,
   "metadata": {},
   "outputs": [],
   "source": [
    "# Set the calseries parameters for analysis and line fitting\n",
    "owc.configuration.set_calseries(\"/\", FLOAT_NAME, USER_CONFIG)"
   ]
  },
  {
   "cell_type": "code",
   "execution_count": null,
   "metadata": {},
   "outputs": [],
   "source": [
    "# Calculate the fit of each break and calibrate salinities\n",
    "owc.calibration.calc_piecewisefit(\"/\", FLOAT_NAME, USER_CONFIG)"
   ]
  },
  {
   "cell_type": "markdown",
   "metadata": {},
   "source": [
    "# Diagnostics dashboard"
   ]
  },
  {
   "cell_type": "code",
   "execution_count": null,
   "metadata": {},
   "outputs": [],
   "source": [
    "owc.plot.dashboard(\"/\", FLOAT_NAME, USER_CONFIG)"
   ]
  }
 ],
 "metadata": {
  "kernelspec": {
   "display_name": "Python 3",
   "language": "python",
   "name": "python3"
  },
  "language_info": {
   "codemirror_mode": {
    "name": "ipython",
    "version": 3
   },
   "file_extension": ".py",
   "mimetype": "text/x-python",
   "name": "python",
   "nbconvert_exporter": "python",
   "pygments_lexer": "ipython3",
   "version": "3.6.10"
  },
  "widgets": {
   "application/vnd.jupyter.widget-state+json": {
    "state": {},
    "version_major": 2,
    "version_minor": 0
   }
  }
 },
 "nbformat": 4,
 "nbformat_minor": 4
}
