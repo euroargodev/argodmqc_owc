{
 "cells": [
  {
   "cell_type": "markdown",
   "metadata": {},
   "source": [
    "OWC Python software\n",
    "===================\n",
    "\n",
    "This notebook simply shows how to get you started with the OWC Python software"
   ]
  },
  {
   "cell_type": "code",
   "execution_count": null,
   "metadata": {},
   "outputs": [],
   "source": [
    "import pyowc as owc"
   ]
  },
  {
   "cell_type": "markdown",
   "metadata": {},
   "source": [
    "# Set-up parameters"
   ]
  },
  {
   "cell_type": "code",
   "execution_count": null,
   "metadata": {},
   "outputs": [],
   "source": [
    "# store name for profile\n",
    "FLOAT_NAME = \"3901960\"\n",
    "\n",
    "# fetch the configuration and parameters set by the user\n",
    "USER_CONFIG = owc.configuration.load()\n",
    "\n",
    "# Fix paths to run on Binder:\n",
    "for k in USER_CONFIG:\n",
    "    if \"DIRECTORY\" in k and \"data/\" in USER_CONFIG[k][0:5]:\n",
    "        print(\"%30s: %s\" % (k, USER_CONFIG[k]))\n",
    "        USER_CONFIG[k] = USER_CONFIG[k].replace(\"data/\", \"../data/\")\n",
    "print(\"\\n\")\n",
    "\n",
    "#\n",
    "for k in USER_CONFIG:\n",
    "    print(\"%30s: %s\" % (k, USER_CONFIG[k]))"
   ]
  },
  {
   "cell_type": "markdown",
   "metadata": {},
   "source": [
    "# Compute calibration"
   ]
  },
  {
   "cell_type": "code",
   "execution_count": null,
   "metadata": {},
   "outputs": [],
   "source": [
    "owc.calibration.update_salinity_mapping(\"/\", FLOAT_NAME, USER_CONFIG)"
   ]
  },
  {
   "cell_type": "markdown",
   "metadata": {},
   "source": [
    "# Diagnostics dashboard"
   ]
  },
  {
   "cell_type": "code",
   "execution_count": null,
   "metadata": {},
   "outputs": [],
   "source": [
    "owc.plot.dashboard(\"/\", FLOAT_NAME, USER_CONFIG)"
   ]
  }
 ],
 "metadata": {
  "kernelspec": {
   "display_name": "Python 3",
   "language": "python",
   "name": "python3"
  },
  "language_info": {
   "codemirror_mode": {
    "name": "ipython",
    "version": 3
   },
   "file_extension": ".py",
   "mimetype": "text/x-python",
   "name": "python",
   "nbconvert_exporter": "python",
   "pygments_lexer": "ipython3",
   "version": "3.6.10"
  },
  "widgets": {
   "application/vnd.jupyter.widget-state+json": {
    "state": {},
    "version_major": 2,
    "version_minor": 0
   }
  }
 },
 "nbformat": 4,
 "nbformat_minor": 4
}
